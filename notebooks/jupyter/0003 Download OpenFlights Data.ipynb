{
 "cells": [
  {
   "cell_type": "code",
   "execution_count": null,
   "metadata": {},
   "outputs": [],
   "source": [
    "import gzip\n",
    "import os\n",
    "import sys\n",
    "from six.moves.urllib.request import urlretrieve, urlcleanup"
   ]
  },
  {
   "cell_type": "code",
   "execution_count": null,
   "metadata": {},
   "outputs": [],
   "source": [
    "data_dir = '/data'\n",
    "openflights_dir = os.path.join(data_dir, 'openflights')\n",
    "\n",
    "if not os.path.exists(openflights_dir):\n",
    "    os.mkdir(openflights_dir)"
   ]
  },
  {
   "cell_type": "code",
   "execution_count": null,
   "metadata": {},
   "outputs": [],
   "source": [
    "class DownloadProgress:\n",
    "    def __init__(self):\n",
    "        self.last_percent_reported = None\n",
    "\n",
    "    def __call__(self, count, blockSize, totalSize):\n",
    "        percent = int(count * blockSize * 100 / totalSize)\n",
    "\n",
    "        if self.last_percent_reported != percent:\n",
    "            if percent % 5 == 0:\n",
    "                sys.stdout.write(\"%s%%\" % percent)\n",
    "                sys.stdout.flush()\n",
    "            else:\n",
    "                sys.stdout.write(\".\")\n",
    "                sys.stdout.flush()\n",
    "      \n",
    "            self.last_percent_reported = percent"
   ]
  },
  {
   "cell_type": "code",
   "execution_count": null,
   "metadata": {},
   "outputs": [],
   "source": [
    "base_url = \"https://raw.githubusercontent.com/jpatokal/openflights/master/data/\"\n",
    "files = [(\"airports.dat\", \"airports.dat\"),\n",
    "         (\"airports-extended.dat\", \"airports-extended.dat\"),\n",
    "         (\"airlines.dat\", \"airlines.dat\"),\n",
    "         (\"routes.dat\", \"routes.dat\")]\n",
    "for source, destination in files:\n",
    "    url = base_url + source\n",
    "    path = os.path.join(openflights_dir, destination)\n",
    "    if not os.path.exists(path):\n",
    "        print(\"Downloading \" + destination)\n",
    "        urlcleanup()\n",
    "        urlretrieve(url, path, reporthook=DownloadProgress())\n",
    "        print(\"\")"
   ]
  },
  {
   "cell_type": "code",
   "execution_count": null,
   "metadata": {},
   "outputs": [],
   "source": []
  }
 ],
 "metadata": {
  "kernelspec": {
   "display_name": "Python 3",
   "language": "python",
   "name": "python3"
  },
  "language_info": {
   "codemirror_mode": {
    "name": "ipython",
    "version": 3
   },
   "file_extension": ".py",
   "mimetype": "text/x-python",
   "name": "python",
   "nbconvert_exporter": "python",
   "pygments_lexer": "ipython3",
   "version": "3.6.5"
  }
 },
 "nbformat": 4,
 "nbformat_minor": 2
}
