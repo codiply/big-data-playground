{
 "cells": [
  {
   "cell_type": "code",
   "execution_count": null,
   "metadata": {},
   "outputs": [],
   "source": [
    "import gzip\n",
    "import os\n",
    "import sys\n",
    "from six.moves.urllib.request import urlretrieve, urlcleanup"
   ]
  },
  {
   "cell_type": "code",
   "execution_count": null,
   "metadata": {},
   "outputs": [],
   "source": [
    "data_dir = '/data'"
   ]
  },
  {
   "cell_type": "code",
   "execution_count": null,
   "metadata": {},
   "outputs": [],
   "source": [
    "class DownloadProgress:\n",
    "    def __init__(self):\n",
    "        self.last_percent_reported = None\n",
    "\n",
    "    def __call__(self, count, blockSize, totalSize):\n",
    "        percent = int(count * blockSize * 100 / totalSize)\n",
    "\n",
    "        if self.last_percent_reported != percent:\n",
    "            if percent % 5 == 0:\n",
    "                sys.stdout.write(\"%s%%\" % percent)\n",
    "                sys.stdout.flush()\n",
    "            else:\n",
    "                sys.stdout.write(\".\")\n",
    "                sys.stdout.flush()\n",
    "      \n",
    "            self.last_percent_reported = percent"
   ]
  },
  {
   "cell_type": "code",
   "execution_count": null,
   "metadata": {},
   "outputs": [],
   "source": [
    "def extract_gz(source, destination):\n",
    "    with gzip.open(source, 'rb') as infile:\n",
    "        with open(destination, 'wb') as outfile:\n",
    "            for line in infile:\n",
    "                outfile.write(line)"
   ]
  },
  {
   "cell_type": "code",
   "execution_count": null,
   "metadata": {},
   "outputs": [],
   "source": [
    "weather_dir = os.path.join(data_dir, 'weather')\n",
    "by_year_dir = os.path.join(weather_dir, 'by_year')\n",
    "if not os.path.exists(weather_dir):\n",
    "    os.mkdir(weather_dir)\n",
    "if not os.path.exists(by_year_dir):\n",
    "    os.mkdir(by_year_dir)"
   ]
  },
  {
   "cell_type": "code",
   "execution_count": null,
   "metadata": {},
   "outputs": [],
   "source": [
    "for year in range(1991, 2018):\n",
    "    csv = \"%d.csv\" % year\n",
    "    csv_path = os.path.join(by_year_dir, csv)\n",
    "    \n",
    "    gz = csv + \".gz\"\n",
    "    gz_path = os.path.join(by_year_dir, gz)\n",
    "    \n",
    "    url = \"ftp://ftp.ncdc.noaa.gov/pub/data/ghcn/daily/by_year/\" + gz\n",
    "    \n",
    "    if not os.path.exists(csv_path):\n",
    "        print(\"Downloading weather data for year %d\" % year)\n",
    "        urlcleanup()\n",
    "        urlretrieve(url, gz_path, reporthook=DownloadProgress())\n",
    "        print(\"\\nExtracting weather data for year %d\" % year)\n",
    "        extract_gz(gz_path, csv_path)\n",
    "        os.remove(gz_path)"
   ]
  },
  {
   "cell_type": "code",
   "execution_count": null,
   "metadata": {},
   "outputs": [],
   "source": [
    "base_url = \"ftp://ftp.ncdc.noaa.gov/pub/data/ghcn/daily/\"\n",
    "files = [(\"readme.txt\", \"readme.txt\"),\n",
    "         (\"ghcnd-inventory.txt\", \"inventory.txt\"),\n",
    "         (\"ghcnd-stations.txt\", \"stations.txt\"),\n",
    "         (\"by_year/readme.txt\", \"by_year_readme.txt\")]\n",
    "for source, destination in files:\n",
    "    url = base_url + source\n",
    "    path = os.path.join(weather_dir, destination)\n",
    "    if not os.path.exists(path):\n",
    "        print(\"Downloading \" + destination)\n",
    "        urlcleanup()\n",
    "        urlretrieve(url, path, reporthook=DownloadProgress())\n",
    "        print(\"\")"
   ]
  },
  {
   "cell_type": "code",
   "execution_count": null,
   "metadata": {},
   "outputs": [],
   "source": []
  }
 ],
 "metadata": {
  "kernelspec": {
   "display_name": "Python 3",
   "language": "python",
   "name": "python3"
  },
  "language_info": {
   "codemirror_mode": {
    "name": "ipython",
    "version": 3
   },
   "file_extension": ".py",
   "mimetype": "text/x-python",
   "name": "python",
   "nbconvert_exporter": "python",
   "pygments_lexer": "ipython3",
   "version": "3.6.5"
  }
 },
 "nbformat": 4,
 "nbformat_minor": 2
}
