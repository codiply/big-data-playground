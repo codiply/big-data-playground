{
 "cells": [
  {
   "cell_type": "code",
   "execution_count": 1,
   "metadata": {},
   "outputs": [],
   "source": [
    "import io\n",
    "import os\n",
    "import requests\n",
    "import zipfile"
   ]
  },
  {
   "cell_type": "code",
   "execution_count": 2,
   "metadata": {},
   "outputs": [],
   "source": [
    "data_dir = '/data'"
   ]
  },
  {
   "cell_type": "code",
   "execution_count": 3,
   "metadata": {},
   "outputs": [],
   "source": [
    "def download_and_extract_zip(url, folder):\n",
    "    r = requests.get(url)\n",
    "    z = zipfile.ZipFile(io.BytesIO(r.content))\n",
    "    z.extractall(folder)"
   ]
  },
  {
   "cell_type": "code",
   "execution_count": 4,
   "metadata": {},
   "outputs": [
    {
     "name": "stdout",
     "output_type": "stream",
     "text": [
      "Downloading MovieLens ml-1m dataset\n",
      "Downloading MovieLens ml-20m dataset\n"
     ]
    }
   ],
   "source": [
    "if not os.path.exists(os.path.join(data_dir, 'ml-1m')):\n",
    "    print(\"Downloading MovieLens ml-1m dataset\")\n",
    "    download_and_extract_zip('http://files.grouplens.org/datasets/movielens/ml-1m.zip', data_dir)\n",
    "if not os.path.exists(os.path.join(data_dir, 'ml-20m')):\n",
    "    print(\"Downloading MovieLens ml-20m dataset\")\n",
    "    download_and_extract_zip('http://files.grouplens.org/datasets/movielens/ml-20m.zip', data_dir)"
   ]
  },
  {
   "cell_type": "code",
   "execution_count": null,
   "metadata": {},
   "outputs": [],
   "source": []
  }
 ],
 "metadata": {
  "kernelspec": {
   "display_name": "Python 3",
   "language": "python",
   "name": "python3"
  },
  "language_info": {
   "codemirror_mode": {
    "name": "ipython",
    "version": 3
   },
   "file_extension": ".py",
   "mimetype": "text/x-python",
   "name": "python",
   "nbconvert_exporter": "python",
   "pygments_lexer": "ipython3",
   "version": "3.6.5"
  }
 },
 "nbformat": 4,
 "nbformat_minor": 2
}
